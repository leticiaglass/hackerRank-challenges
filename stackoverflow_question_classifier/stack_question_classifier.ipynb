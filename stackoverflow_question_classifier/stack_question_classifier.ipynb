{
 "cells": [
  {
   "cell_type": "markdown",
   "metadata": {},
   "source": [
    "# Stackoverflow questions classification by topic\n",
    "\n",
    "HackerRank problem of Statistics and Machine Learning\n",
    "\n",
    "Here is a study of a case based on a HackerRank challenge. The solution is not tailored for the site, where only the output is required. I only used the problem as a question to explore."
   ]
  },
  {
   "cell_type": "markdown",
   "metadata": {},
   "source": [
    "### Setup"
   ]
  },
  {
   "cell_type": "code",
   "execution_count": 4,
   "metadata": {},
   "outputs": [],
   "source": [
    "import json\n",
    "import pandas as pd\n",
    "from sklearn.feature_extraction.text import TfidfVectorizer\n",
    "from sklearn.preprocessing import LabelEncoder\n",
    "from sklearn.model_selection import train_test_split\n",
    "from sklearn.linear_model import SGDClassifier\n",
    "from sklearn.linear_model import LogisticRegression\n",
    "from sklearn.ensemble import RandomForestClassifier\n",
    "from sklearn.svm import SVC\n",
    "from sklearn.metrics import accuracy_score, precision_score, recall_score, f1_score, confusion_matrix, classification_report\n",
    "from sklearn.model_selection import cross_val_score, GridSearchCV, RandomizedSearchCV\n",
    "import seaborn as sns\n",
    "import matplotlib.pyplot as plt\n",
    "from scipy.sparse import vstack \n",
    "from scipy.stats import randint\n",
    "import optuna"
   ]
  },
  {
   "cell_type": "markdown",
   "metadata": {},
   "source": [
    "### Algorithm"
   ]
  },
  {
   "cell_type": "code",
   "execution_count": 5,
   "metadata": {},
   "outputs": [],
   "source": [
    "\n",
    "# Step 1: Load and preprocess the training data\n",
    "def load_training_data(file_path):\n",
    "    with open(file_path, 'r') as f:\n",
    "        num_lines = int(f.readline().strip())\n",
    "        data = [json.loads(f.readline().strip()) for _ in range(num_lines)]\n",
    "    df = pd.DataFrame(data)\n",
    "    return df\n",
    "\n",
    "def preprocess_text(df):\n",
    "    df['text'] = df['question'] + \" \" + df['excerpt']\n",
    "    return df\n",
    "\n",
    "def encode_labels(df):\n",
    "    le = LabelEncoder()\n",
    "    df['topic_encoded'] = le.fit_transform(df['topic'])\n",
    "    return df, le\n",
    "\n",
    "# Vectorize text\n",
    "def vectorize_text(df):\n",
    "    vectorizer = TfidfVectorizer(sublinear_tf=True,analyzer = 'word', max_df = 0.1, ngram_range=(1,2), max_features=5000, stop_words='english')\n",
    "    X = vectorizer.fit_transform(df['text'])\n",
    "    return X, vectorizer\n",
    "\n",
    "# Step 2: Train the model\n",
    "def train_model(X, y):\n",
    "    X_train, X_val, y_train, y_val = train_test_split(X, y, test_size=0.2, random_state=42)\n",
    "    model = SGDClassifier()\n",
    "    model.fit(X_train, y_train)\n",
    "    # Evaluate\n",
    "    y_pred = model.predict(X_val)\n",
    "    print(f\"Validation Accuracy: {accuracy_score(y_val, y_pred)}\")\n",
    "    return model\n",
    "\n",
    "# Step 3: Predict on test data\n",
    "def predict_test_data(model, vectorizer, le, test_file_path):\n",
    "    with open(test_file_path, 'r') as f:\n",
    "        num_lines = int(f.readline().strip())\n",
    "        test_data = [json.loads(f.readline().strip()) for _ in range(num_lines)]\n",
    "    test_df = pd.DataFrame(test_data)\n",
    "    test_df['text'] = test_df['question'] + \" \" + test_df['excerpt']\n",
    "    X_test = vectorizer.transform(test_df['text'])\n",
    "    predictions = model.predict(X_test)\n",
    "    test_df['predicted_topic'] = le.inverse_transform(predictions)\n",
    "    return test_df"
   ]
  },
  {
   "cell_type": "code",
   "execution_count": 6,
   "metadata": {},
   "outputs": [],
   "source": [
    "# Load and preprocess training data\n",
    "train_file_path = 'training.json'\n",
    "df = load_training_data(train_file_path)\n",
    "df = preprocess_text(df)\n",
    "df, le = encode_labels(df)\n",
    "X, vectorizer = vectorize_text(df)"
   ]
  },
  {
   "cell_type": "code",
   "execution_count": 7,
   "metadata": {},
   "outputs": [
    {
     "name": "stdout",
     "output_type": "stream",
     "text": [
      "Validation Accuracy: 0.9077645895153313\n"
     ]
    }
   ],
   "source": [
    "# Train the model\n",
    "model = train_model(X, df['topic_encoded'])"
   ]
  },
  {
   "cell_type": "code",
   "execution_count": 8,
   "metadata": {},
   "outputs": [],
   "source": [
    "# Predict on test data\n",
    "test_file_path = 'test_data.txt'\n",
    "test_df = predict_test_data(model, vectorizer, le, test_file_path)"
   ]
  },
  {
   "cell_type": "markdown",
   "metadata": {},
   "source": [
    "### Predicitions"
   ]
  },
  {
   "cell_type": "code",
   "execution_count": 9,
   "metadata": {},
   "outputs": [
    {
     "data": {
      "text/html": [
       "<div>\n",
       "<style scoped>\n",
       "    .dataframe tbody tr th:only-of-type {\n",
       "        vertical-align: middle;\n",
       "    }\n",
       "\n",
       "    .dataframe tbody tr th {\n",
       "        vertical-align: top;\n",
       "    }\n",
       "\n",
       "    .dataframe thead th {\n",
       "        text-align: right;\n",
       "    }\n",
       "</style>\n",
       "<table border=\"1\" class=\"dataframe\">\n",
       "  <thead>\n",
       "    <tr style=\"text-align: right;\">\n",
       "      <th></th>\n",
       "      <th>question</th>\n",
       "      <th>excerpt</th>\n",
       "      <th>text</th>\n",
       "      <th>predicted_topic</th>\n",
       "    </tr>\n",
       "  </thead>\n",
       "  <tbody>\n",
       "    <tr>\n",
       "      <th>0</th>\n",
       "      <td>Frequency Inverter LS IS5</td>\n",
       "      <td>I have been working with a IS5 frequency inver...</td>\n",
       "      <td>Frequency Inverter LS IS5 I have been working ...</td>\n",
       "      <td>electronics</td>\n",
       "    </tr>\n",
       "    <tr>\n",
       "      <th>1</th>\n",
       "      <td>Why did the designer use this motor?</td>\n",
       "      <td>I was taking apart this thing that I bought fr...</td>\n",
       "      <td>Why did the designer use this motor? I was tak...</td>\n",
       "      <td>photo</td>\n",
       "    </tr>\n",
       "    <tr>\n",
       "      <th>2</th>\n",
       "      <td>Help with amplifier with feedback</td>\n",
       "      <td>I am starting to learn to use operational ampl...</td>\n",
       "      <td>Help with amplifier with feedback I am startin...</td>\n",
       "      <td>electronics</td>\n",
       "    </tr>\n",
       "    <tr>\n",
       "      <th>3</th>\n",
       "      <td>Single Supply Op Amp to Amplify 0-3.3V to 0-10V</td>\n",
       "      <td>This may be a very basic question but as the u...</td>\n",
       "      <td>Single Supply Op Amp to Amplify 0-3.3V to 0-10...</td>\n",
       "      <td>electronics</td>\n",
       "    </tr>\n",
       "    <tr>\n",
       "      <th>4</th>\n",
       "      <td>How to start with 3d tracking? [on hold]</td>\n",
       "      <td>I am new to all of this and I really feel over...</td>\n",
       "      <td>How to start with 3d tracking? [on hold] I am ...</td>\n",
       "      <td>scifi</td>\n",
       "    </tr>\n",
       "    <tr>\n",
       "      <th>...</th>\n",
       "      <td>...</td>\n",
       "      <td>...</td>\n",
       "      <td>...</td>\n",
       "      <td>...</td>\n",
       "    </tr>\n",
       "    <tr>\n",
       "      <th>15027</th>\n",
       "      <td>Add exception to WP Mobile Detector</td>\n",
       "      <td>In the function websitez_detect_mobile_device ...</td>\n",
       "      <td>Add exception to WP Mobile Detector In the fun...</td>\n",
       "      <td>wordpress</td>\n",
       "    </tr>\n",
       "    <tr>\n",
       "      <th>15028</th>\n",
       "      <td>Query Problem in getting top viewed posts</td>\n",
       "      <td>I wanted to display top viewed posts by month,...</td>\n",
       "      <td>Query Problem in getting top viewed posts I wa...</td>\n",
       "      <td>wordpress</td>\n",
       "    </tr>\n",
       "    <tr>\n",
       "      <th>15029</th>\n",
       "      <td>Translate Woosidebars plugin strings</td>\n",
       "      <td>I'm  trying to translate Woosidebars strings i...</td>\n",
       "      <td>Translate Woosidebars plugin strings I'm  tryi...</td>\n",
       "      <td>wordpress</td>\n",
       "    </tr>\n",
       "    <tr>\n",
       "      <th>15030</th>\n",
       "      <td>Fatal error: Allowed memory size of 37748736 b...</td>\n",
       "      <td>I hope this is not a duplicate question.\\n\\nI ...</td>\n",
       "      <td>Fatal error: Allowed memory size of 37748736 b...</td>\n",
       "      <td>wordpress</td>\n",
       "    </tr>\n",
       "    <tr>\n",
       "      <th>15031</th>\n",
       "      <td>more tables created when create a new site</td>\n",
       "      <td>Can someone suggest me an idea on this? \\n\\nI ...</td>\n",
       "      <td>more tables created when create a new site Can...</td>\n",
       "      <td>wordpress</td>\n",
       "    </tr>\n",
       "  </tbody>\n",
       "</table>\n",
       "<p>15032 rows × 4 columns</p>\n",
       "</div>"
      ],
      "text/plain": [
       "                                                question  \\\n",
       "0                              Frequency Inverter LS IS5   \n",
       "1                   Why did the designer use this motor?   \n",
       "2                      Help with amplifier with feedback   \n",
       "3        Single Supply Op Amp to Amplify 0-3.3V to 0-10V   \n",
       "4               How to start with 3d tracking? [on hold]   \n",
       "...                                                  ...   \n",
       "15027                Add exception to WP Mobile Detector   \n",
       "15028          Query Problem in getting top viewed posts   \n",
       "15029               Translate Woosidebars plugin strings   \n",
       "15030  Fatal error: Allowed memory size of 37748736 b...   \n",
       "15031         more tables created when create a new site   \n",
       "\n",
       "                                                 excerpt  \\\n",
       "0      I have been working with a IS5 frequency inver...   \n",
       "1      I was taking apart this thing that I bought fr...   \n",
       "2      I am starting to learn to use operational ampl...   \n",
       "3      This may be a very basic question but as the u...   \n",
       "4      I am new to all of this and I really feel over...   \n",
       "...                                                  ...   \n",
       "15027  In the function websitez_detect_mobile_device ...   \n",
       "15028  I wanted to display top viewed posts by month,...   \n",
       "15029  I'm  trying to translate Woosidebars strings i...   \n",
       "15030  I hope this is not a duplicate question.\\n\\nI ...   \n",
       "15031  Can someone suggest me an idea on this? \\n\\nI ...   \n",
       "\n",
       "                                                    text predicted_topic  \n",
       "0      Frequency Inverter LS IS5 I have been working ...     electronics  \n",
       "1      Why did the designer use this motor? I was tak...           photo  \n",
       "2      Help with amplifier with feedback I am startin...     electronics  \n",
       "3      Single Supply Op Amp to Amplify 0-3.3V to 0-10...     electronics  \n",
       "4      How to start with 3d tracking? [on hold] I am ...           scifi  \n",
       "...                                                  ...             ...  \n",
       "15027  Add exception to WP Mobile Detector In the fun...       wordpress  \n",
       "15028  Query Problem in getting top viewed posts I wa...       wordpress  \n",
       "15029  Translate Woosidebars plugin strings I'm  tryi...       wordpress  \n",
       "15030  Fatal error: Allowed memory size of 37748736 b...       wordpress  \n",
       "15031  more tables created when create a new site Can...       wordpress  \n",
       "\n",
       "[15032 rows x 4 columns]"
      ]
     },
     "execution_count": 9,
     "metadata": {},
     "output_type": "execute_result"
    }
   ],
   "source": [
    "test_df"
   ]
  },
  {
   "cell_type": "code",
   "execution_count": 10,
   "metadata": {},
   "outputs": [],
   "source": [
    "# Save predictions\n",
    "#test_df[['question', 'excerpt', 'predicted_topic']].to_csv('predictions.csv', index=False)"
   ]
  },
  {
   "cell_type": "markdown",
   "metadata": {},
   "source": [
    "### More about validation"
   ]
  },
  {
   "cell_type": "code",
   "execution_count": 11,
   "metadata": {},
   "outputs": [],
   "source": [
    "# Split data into training (70%), validation (15%), and test (15%)\n",
    "X_train, X_temp, y_train, y_temp = train_test_split(X, df['topic_encoded'], test_size=0.3, random_state=42)\n",
    "X_val, X_test, y_val, y_test = train_test_split(X_temp, y_temp, test_size=0.5, random_state=42)"
   ]
  },
  {
   "cell_type": "code",
   "execution_count": 12,
   "metadata": {},
   "outputs": [
    {
     "data": {
      "text/html": [
       "<style>#sk-container-id-1 {color: black;background-color: white;}#sk-container-id-1 pre{padding: 0;}#sk-container-id-1 div.sk-toggleable {background-color: white;}#sk-container-id-1 label.sk-toggleable__label {cursor: pointer;display: block;width: 100%;margin-bottom: 0;padding: 0.3em;box-sizing: border-box;text-align: center;}#sk-container-id-1 label.sk-toggleable__label-arrow:before {content: \"▸\";float: left;margin-right: 0.25em;color: #696969;}#sk-container-id-1 label.sk-toggleable__label-arrow:hover:before {color: black;}#sk-container-id-1 div.sk-estimator:hover label.sk-toggleable__label-arrow:before {color: black;}#sk-container-id-1 div.sk-toggleable__content {max-height: 0;max-width: 0;overflow: hidden;text-align: left;background-color: #f0f8ff;}#sk-container-id-1 div.sk-toggleable__content pre {margin: 0.2em;color: black;border-radius: 0.25em;background-color: #f0f8ff;}#sk-container-id-1 input.sk-toggleable__control:checked~div.sk-toggleable__content {max-height: 200px;max-width: 100%;overflow: auto;}#sk-container-id-1 input.sk-toggleable__control:checked~label.sk-toggleable__label-arrow:before {content: \"▾\";}#sk-container-id-1 div.sk-estimator input.sk-toggleable__control:checked~label.sk-toggleable__label {background-color: #d4ebff;}#sk-container-id-1 div.sk-label input.sk-toggleable__control:checked~label.sk-toggleable__label {background-color: #d4ebff;}#sk-container-id-1 input.sk-hidden--visually {border: 0;clip: rect(1px 1px 1px 1px);clip: rect(1px, 1px, 1px, 1px);height: 1px;margin: -1px;overflow: hidden;padding: 0;position: absolute;width: 1px;}#sk-container-id-1 div.sk-estimator {font-family: monospace;background-color: #f0f8ff;border: 1px dotted black;border-radius: 0.25em;box-sizing: border-box;margin-bottom: 0.5em;}#sk-container-id-1 div.sk-estimator:hover {background-color: #d4ebff;}#sk-container-id-1 div.sk-parallel-item::after {content: \"\";width: 100%;border-bottom: 1px solid gray;flex-grow: 1;}#sk-container-id-1 div.sk-label:hover label.sk-toggleable__label {background-color: #d4ebff;}#sk-container-id-1 div.sk-serial::before {content: \"\";position: absolute;border-left: 1px solid gray;box-sizing: border-box;top: 0;bottom: 0;left: 50%;z-index: 0;}#sk-container-id-1 div.sk-serial {display: flex;flex-direction: column;align-items: center;background-color: white;padding-right: 0.2em;padding-left: 0.2em;position: relative;}#sk-container-id-1 div.sk-item {position: relative;z-index: 1;}#sk-container-id-1 div.sk-parallel {display: flex;align-items: stretch;justify-content: center;background-color: white;position: relative;}#sk-container-id-1 div.sk-item::before, #sk-container-id-1 div.sk-parallel-item::before {content: \"\";position: absolute;border-left: 1px solid gray;box-sizing: border-box;top: 0;bottom: 0;left: 50%;z-index: -1;}#sk-container-id-1 div.sk-parallel-item {display: flex;flex-direction: column;z-index: 1;position: relative;background-color: white;}#sk-container-id-1 div.sk-parallel-item:first-child::after {align-self: flex-end;width: 50%;}#sk-container-id-1 div.sk-parallel-item:last-child::after {align-self: flex-start;width: 50%;}#sk-container-id-1 div.sk-parallel-item:only-child::after {width: 0;}#sk-container-id-1 div.sk-dashed-wrapped {border: 1px dashed gray;margin: 0 0.4em 0.5em 0.4em;box-sizing: border-box;padding-bottom: 0.4em;background-color: white;}#sk-container-id-1 div.sk-label label {font-family: monospace;font-weight: bold;display: inline-block;line-height: 1.2em;}#sk-container-id-1 div.sk-label-container {text-align: center;}#sk-container-id-1 div.sk-container {/* jupyter's `normalize.less` sets `[hidden] { display: none; }` but bootstrap.min.css set `[hidden] { display: none !important; }` so we also need the `!important` here to be able to override the default hidden behavior on the sphinx rendered scikit-learn.org. See: https://github.com/scikit-learn/scikit-learn/issues/21755 */display: inline-block !important;position: relative;}#sk-container-id-1 div.sk-text-repr-fallback {display: none;}</style><div id=\"sk-container-id-1\" class=\"sk-top-container\"><div class=\"sk-text-repr-fallback\"><pre>SGDClassifier()</pre><b>In a Jupyter environment, please rerun this cell to show the HTML representation or trust the notebook. <br />On GitHub, the HTML representation is unable to render, please try loading this page with nbviewer.org.</b></div><div class=\"sk-container\" hidden><div class=\"sk-item\"><div class=\"sk-estimator sk-toggleable\"><input class=\"sk-toggleable__control sk-hidden--visually\" id=\"sk-estimator-id-1\" type=\"checkbox\" checked><label for=\"sk-estimator-id-1\" class=\"sk-toggleable__label sk-toggleable__label-arrow\">SGDClassifier</label><div class=\"sk-toggleable__content\"><pre>SGDClassifier()</pre></div></div></div></div></div>"
      ],
      "text/plain": [
       "SGDClassifier()"
      ]
     },
     "execution_count": 12,
     "metadata": {},
     "output_type": "execute_result"
    }
   ],
   "source": [
    "model.fit(X_train, y_train)"
   ]
  },
  {
   "cell_type": "code",
   "execution_count": 13,
   "metadata": {},
   "outputs": [
    {
     "name": "stdout",
     "output_type": "stream",
     "text": [
      "Validation Accuracy: 0.9004286185295087\n"
     ]
    }
   ],
   "source": [
    "y_val_pred = model.predict(X_val)\n",
    "accuracy = accuracy_score(y_val, y_val_pred)\n",
    "print(f\"Validation Accuracy: {accuracy}\")"
   ]
  },
  {
   "cell_type": "code",
   "execution_count": 14,
   "metadata": {},
   "outputs": [
    {
     "name": "stdout",
     "output_type": "stream",
     "text": [
      "Precision: 0.9004606915957578\n",
      "Recall: 0.9004286185295087\n",
      "F1-Score: 0.8999767994017619\n"
     ]
    }
   ],
   "source": [
    "precision = precision_score(y_val, y_val_pred, average='weighted')\n",
    "recall = recall_score(y_val, y_val_pred, average='weighted')\n",
    "f1 = f1_score(y_val, y_val_pred, average='weighted')\n",
    "\n",
    "print(f\"Precision: {precision}\")\n",
    "print(f\"Recall: {recall}\")\n",
    "print(f\"F1-Score: {f1}\")"
   ]
  },
  {
   "cell_type": "code",
   "execution_count": 15,
   "metadata": {},
   "outputs": [
    {
     "data": {
      "image/png": "[encoded data removed]",
      "text/plain": [
       "<Figure size 640x480 with 2 Axes>"
      ]
     },
     "metadata": {},
     "output_type": "display_data"
    }
   ],
   "source": [
    "cm = confusion_matrix(y_val, y_val_pred)\n",
    "sns.heatmap(cm, annot=True, fmt='d', cmap='Blues')\n",
    "plt.xlabel('Predicted')\n",
    "plt.ylabel('True')\n",
    "plt.show()"
   ]
  },
  {
   "cell_type": "code",
   "execution_count": 16,
   "metadata": {},
   "outputs": [
    {
     "name": "stdout",
     "output_type": "stream",
     "text": [
      "              precision    recall  f1-score   support\n",
      "\n",
      "           0       0.94      0.94      0.94       356\n",
      "           1       0.86      0.85      0.86       303\n",
      "           2       0.91      0.90      0.90       287\n",
      "           3       0.93      0.93      0.93       379\n",
      "           4       0.89      0.86      0.88       212\n",
      "           5       0.90      0.95      0.93       277\n",
      "           6       0.95      0.97      0.96       345\n",
      "           7       0.88      0.78      0.83       290\n",
      "           8       0.77      0.81      0.79       284\n",
      "           9       0.94      0.98      0.96       300\n",
      "\n",
      "    accuracy                           0.90      3033\n",
      "   macro avg       0.90      0.90      0.90      3033\n",
      "weighted avg       0.90      0.90      0.90      3033\n",
      "\n"
     ]
    }
   ],
   "source": [
    "report = classification_report(y_val, y_val_pred)\n",
    "print(report)"
   ]
  },
  {
   "cell_type": "code",
   "execution_count": 17,
   "metadata": {},
   "outputs": [
    {
     "name": "stdout",
     "output_type": "stream",
     "text": [
      "Cross-Validation Accuracy: 0.9066721419321914 ± 0.0060270164312028925\n"
     ]
    }
   ],
   "source": [
    "scores = cross_val_score(model, X, df['topic_encoded'], cv=5, scoring='accuracy')\n",
    "print(f\"Cross-Validation Accuracy: {scores.mean()} ± {scores.std()}\")"
   ]
  },
  {
   "cell_type": "markdown",
   "metadata": {},
   "source": [
    "### Comparing Models"
   ]
  },
  {
   "cell_type": "code",
   "execution_count": 18,
   "metadata": {},
   "outputs": [
    {
     "name": "stderr",
     "output_type": "stream",
     "text": [
      "/Users/leticiaglass/anaconda3/lib/python3.11/site-packages/sklearn/linear_model/_logistic.py:458: ConvergenceWarning: lbfgs failed to converge (status=1):\n",
      "STOP: TOTAL NO. of ITERATIONS REACHED LIMIT.\n",
      "\n",
      "Increase the number of iterations (max_iter) or scale the data as shown in:\n",
      "    https://scikit-learn.org/stable/modules/preprocessing.html\n",
      "Please also refer to the documentation for alternative solver options:\n",
      "    https://scikit-learn.org/stable/modules/linear_model.html#logistic-regression\n",
      "  n_iter_i = _check_optimize_result(\n"
     ]
    },
    {
     "name": "stdout",
     "output_type": "stream",
     "text": [
      "Logistic Regression - Accuracy: 0.897131552917903, F1-Score: 0.8969055965965675\n",
      "Random Forest - Accuracy: 0.8170128585558852, F1-Score: 0.8157154988943847\n",
      "SVM - Accuracy: 0.8931750741839762, F1-Score: 0.8936292557389084\n",
      "SGD - Accuracy: 0.9004286185295087, F1-Score: 0.9000413825947909\n"
     ]
    }
   ],
   "source": [
    "models = {\n",
    "    \"Logistic Regression\": LogisticRegression(),\n",
    "    \"Random Forest\": RandomForestClassifier(),\n",
    "    \"SVM\": SVC(),\n",
    "    \"SGD\" : SGDClassifier()\n",
    "}\n",
    "\n",
    "# Evaluate each model\n",
    "for name, model in models.items():\n",
    "    model.fit(X_train, y_train)\n",
    "    y_pred = model.predict(X_val)\n",
    "    accuracy = accuracy_score(y_val, y_pred)\n",
    "    f1 = f1_score(y_val, y_pred, average='weighted')\n",
    "    print(f\"{name} - Accuracy: {accuracy}, F1-Score: {f1}\")"
   ]
  },
  {
   "cell_type": "markdown",
   "metadata": {},
   "source": [
    "Once I've selected the best model (SGD) based on the validation set, I'll evaluate it on the test set to get an unbiased estimate of its performance"
   ]
  },
  {
   "cell_type": "code",
   "execution_count": 19,
   "metadata": {},
   "outputs": [],
   "source": [
    "best_model = SGDClassifier()\n",
    "\n",
    "X_train_full = vstack([X_train, X_val]) # using vstack to concatenate matrix vertically\n",
    "y_train_full = pd.concat([y_train, y_val])\n",
    "\n",
    "best_model.fit(X_train_full, y_train_full)\n",
    "\n",
    "# Predict\n",
    "y_test_pred = best_model.predict(X_test)"
   ]
  },
  {
   "cell_type": "code",
   "execution_count": 20,
   "metadata": {},
   "outputs": [
    {
     "name": "stdout",
     "output_type": "stream",
     "text": [
      "Accuracy: 0.9172436531486977\n",
      "Precision: 0.9172754836959867\n",
      "Recall: 0.9172436531486977\n",
      "F1-Score: 0.9169201589672001\n"
     ]
    }
   ],
   "source": [
    "# comparing true & predicted - evaluate \n",
    "accuracy = accuracy_score(y_test, y_test_pred)\n",
    "precision = precision_score(y_test, y_test_pred, average='weighted')\n",
    "recall = recall_score(y_test, y_test_pred, average='weighted')\n",
    "f1 = f1_score(y_test, y_test_pred, average='weighted')\n",
    "\n",
    "print(f\"Accuracy: {accuracy}\")\n",
    "print(f\"Precision: {precision}\")\n",
    "print(f\"Recall: {recall}\")\n",
    "print(f\"F1-Score: {f1}\")"
   ]
  },
  {
   "cell_type": "code",
   "execution_count": 21,
   "metadata": {},
   "outputs": [
    {
     "data": {
      "image/png": "[encoded data removed]",
      "text/plain": [
       "<Figure size 640x480 with 2 Axes>"
      ]
     },
     "metadata": {},
     "output_type": "display_data"
    }
   ],
   "source": [
    "cm = confusion_matrix(y_test, y_test_pred)\n",
    "sns.heatmap(cm, annot=True, fmt='d', cmap='Blues')\n",
    "plt.xlabel('Predicted')\n",
    "plt.ylabel('True')\n",
    "plt.show()"
   ]
  },
  {
   "cell_type": "markdown",
   "metadata": {},
   "source": [
    "### Tune the hyperparameters "
   ]
  },
  {
   "cell_type": "markdown",
   "metadata": {},
   "source": [
    "Tunning a Random Forest Model with GridSearch:\n",
    "\n",
    "GridSearchCV performs an exhaustive search over all combinations of parameters in the grid.\n",
    "It uses cross-validation (cv=5) to evaluate each combination."
   ]
  },
  {
   "cell_type": "markdown",
   "metadata": {},
   "source": [
    "Mesmo que RandomForest não é o melhor modelo para esse problema, usando apenas para estudos. "
   ]
  },
  {
   "cell_type": "code",
   "execution_count": 22,
   "metadata": {},
   "outputs": [
    {
     "name": "stdout",
     "output_type": "stream",
     "text": [
      "Best Parameters: {'max_depth': None, 'max_features': 'log2', 'min_samples_leaf': 2, 'min_samples_split': 5, 'n_estimators': 50}\n",
      "Best Cross-Validation Accuracy: 0.8589705094904596\n",
      "Test Accuracy with Best Model: 0.8684470820969338\n"
     ]
    }
   ],
   "source": [
    "# Define the parameter grid\n",
    "param_grid = {\n",
    "    'n_estimators': [20, 50],  # Number of trees\n",
    "    'max_depth': [None, 10, 20],  # Maximum depth of trees\n",
    "    'min_samples_split': [2, 5],  # Minimum samples to split a node\n",
    "    'min_samples_leaf': [2, 4],    # Minimum samples at a leaf node\n",
    "    'max_features': ['sqrt', 'log2']   # Number of features to consider for splits\n",
    "}\n",
    "\n",
    "# Create the Random Forest model\n",
    "rf = RandomForestClassifier(random_state=42)\n",
    "\n",
    "# Set up GridSearchCV\n",
    "grid_search = GridSearchCV(\n",
    "    estimator=rf,\n",
    "    param_grid=param_grid,\n",
    "    scoring='accuracy',  # Metric to optimize\n",
    "    cv=5,               # 5-fold cross-validation\n",
    "    n_jobs=-1           # Use all available CPU cores\n",
    ")\n",
    "\n",
    "# Fit GridSearchCV to the training data\n",
    "grid_search.fit(X_train, y_train)\n",
    "\n",
    "# Get the best parameters and best score\n",
    "best_params = grid_search.best_params_\n",
    "best_score = grid_search.best_score_\n",
    "\n",
    "print(f\"Best Parameters: {best_params}\")\n",
    "print(f\"Best Cross-Validation Accuracy: {best_score}\")\n",
    "\n",
    "# Train the best model on the full training set\n",
    "best_rf = grid_search.best_estimator_\n",
    "best_rf.fit(X_train_full, y_train_full)\n",
    "\n",
    "# Evaluate on the test set\n",
    "y_test_pred = best_rf.predict(X_test)\n",
    "test_accuracy = accuracy_score(y_test, y_test_pred)\n",
    "print(f\"Test Accuracy with Best Model: {test_accuracy}\")"
   ]
  },
  {
   "cell_type": "markdown",
   "metadata": {},
   "source": [
    "Tunning with Randomized Search CV - is more efficient because it randomly samples a fixed number of combinations."
   ]
  },
  {
   "cell_type": "code",
   "execution_count": 23,
   "metadata": {},
   "outputs": [
    {
     "name": "stdout",
     "output_type": "stream",
     "text": [
      "Best Parameters: {'max_depth': None, 'max_features': 'log2', 'min_samples_leaf': 2, 'min_samples_split': 7, 'n_estimators': 138}\n",
      "Best Cross-Validation Accuracy: 0.8633509616524769\n",
      "Test Accuracy with Best Model: 0.8737223870755028\n"
     ]
    }
   ],
   "source": [
    "# Define the parameter distribution\n",
    "param_dist = {\n",
    "    'n_estimators': randint(50, 200),       # Randomly sample between 50 and 200\n",
    "    'max_depth': [None, 10, 20],        # Fixed choices\n",
    "    'min_samples_split': randint(2, 10),    # Randomly sample between 2 and 10\n",
    "    'min_samples_leaf': randint(1, 4),      # Randomly sample between 1 and 4\n",
    "    'max_features': ['sqrt', 'log2']        # Fixed choices\n",
    "}\n",
    "\n",
    "# Set up RandomizedSearchCV\n",
    "random_search = RandomizedSearchCV(\n",
    "    estimator=rf,\n",
    "    param_distributions=param_dist,\n",
    "    n_iter=10,               # Number of parameter settings to sample\n",
    "    scoring='accuracy',\n",
    "    cv=5,\n",
    "    n_jobs=-1,\n",
    "    random_state=42\n",
    ")\n",
    "\n",
    "# Fit RandomizedSearchCV to the training data\n",
    "random_search.fit(X_train, y_train)\n",
    "\n",
    "# Get the best parameters and best score\n",
    "best_params = random_search.best_params_\n",
    "best_score = random_search.best_score_\n",
    "\n",
    "print(f\"Best Parameters: {best_params}\")\n",
    "print(f\"Best Cross-Validation Accuracy: {best_score}\")\n",
    "\n",
    "# Train the best model on the full training set\n",
    "best_rf = random_search.best_estimator_\n",
    "best_rf.fit(X_train_full, y_train_full)\n",
    "\n",
    "# Evaluate on the test set\n",
    "y_test_pred = best_rf.predict(X_test)\n",
    "test_accuracy = accuracy_score(y_test, y_test_pred)\n",
    "print(f\"Test Accuracy with Best Model: {test_accuracy}\")"
   ]
  },
  {
   "cell_type": "markdown",
   "metadata": {},
   "source": [
    "### Bayesian Optimization"
   ]
  },
  {
   "cell_type": "markdown",
   "metadata": {},
   "source": [
    "Trying bayesian optimization with random forest model to reach out the best hyperparameters "
   ]
  },
  {
   "cell_type": "code",
   "execution_count": 28,
   "metadata": {},
   "outputs": [],
   "source": [
    "def objective(trial):\n",
    "    # Define hyperparameters to optimize\n",
    "    n_estimators = trial.suggest_int('n_estimators', 50, 200)\n",
    "    max_depth = trial.suggest_int('max_depth', 10, 30, step=5)\n",
    "    min_samples_split = trial.suggest_int('min_samples_split', 2, 10)\n",
    "    min_samples_leaf = trial.suggest_int('min_samples_leaf', 1, 4)\n",
    "    max_features = trial.suggest_categorical('max_features', ['sqrt', 'log2'])\n",
    "\n",
    "    # Create the model\n",
    "    model = RandomForestClassifier(\n",
    "        n_estimators=n_estimators,\n",
    "        max_depth=max_depth,\n",
    "        min_samples_split=min_samples_split,\n",
    "        min_samples_leaf=min_samples_leaf,\n",
    "        max_features=max_features,\n",
    "        random_state=42\n",
    "    )\n",
    "\n",
    "    # Evaluate the model using cross-validation\n",
    "    scores = cross_val_score(model, X_train, y_train, cv=5, scoring='accuracy')\n",
    "    return scores.mean()  # Return the mean accuracy"
   ]
  },
  {
   "cell_type": "code",
   "execution_count": 29,
   "metadata": {},
   "outputs": [
    {
     "name": "stderr",
     "output_type": "stream",
     "text": [
      "[I 2025-03-22 15:05:43,646] A new study created in memory with name: no-name-a2c7466e-c56b-4428-9ef0-6b800c0a512d\n",
      "[I 2025-03-22 15:05:45,669] Trial 0 finished with value: 0.7064237811309168 and parameters: {'n_estimators': 137, 'max_depth': 10, 'min_samples_split': 7, 'min_samples_leaf': 2, 'max_features': 'sqrt'}. Best is trial 0 with value: 0.7064237811309168.\n",
      "[I 2025-03-22 15:05:47,221] Trial 1 finished with value: 0.6942706756218695 and parameters: {'n_estimators': 169, 'max_depth': 10, 'min_samples_split': 5, 'min_samples_leaf': 2, 'max_features': 'log2'}. Best is trial 0 with value: 0.7064237811309168.\n",
      "[I 2025-03-22 15:05:48,376] Trial 2 finished with value: 0.7728405475471589 and parameters: {'n_estimators': 77, 'max_depth': 30, 'min_samples_split': 5, 'min_samples_leaf': 4, 'max_features': 'log2'}. Best is trial 2 with value: 0.7728405475471589.\n",
      "[I 2025-03-22 15:05:51,384] Trial 3 finished with value: 0.7047982895080089 and parameters: {'n_estimators': 200, 'max_depth': 10, 'min_samples_split': 9, 'min_samples_leaf': 1, 'max_features': 'sqrt'}. Best is trial 2 with value: 0.7728405475471589.\n",
      "[I 2025-03-22 15:05:52,244] Trial 4 finished with value: 0.7427412556339268 and parameters: {'n_estimators': 71, 'max_depth': 20, 'min_samples_split': 9, 'min_samples_leaf': 4, 'max_features': 'log2'}. Best is trial 2 with value: 0.7728405475471589.\n",
      "[I 2025-03-22 15:05:53,534] Trial 5 finished with value: 0.6920802373519825 and parameters: {'n_estimators': 133, 'max_depth': 10, 'min_samples_split': 8, 'min_samples_leaf': 3, 'max_features': 'log2'}. Best is trial 2 with value: 0.7728405475471589.\n",
      "[I 2025-03-22 15:05:55,217] Trial 6 finished with value: 0.7885969696931874 and parameters: {'n_estimators': 120, 'max_depth': 30, 'min_samples_split': 4, 'min_samples_leaf': 2, 'max_features': 'log2'}. Best is trial 6 with value: 0.7885969696931874.\n",
      "[I 2025-03-22 15:05:56,735] Trial 7 finished with value: 0.7869011062529566 and parameters: {'n_estimators': 108, 'max_depth': 30, 'min_samples_split': 10, 'min_samples_leaf': 4, 'max_features': 'log2'}. Best is trial 6 with value: 0.7885969696931874.\n",
      "[I 2025-03-22 15:06:00,030] Trial 8 finished with value: 0.807108626975697 and parameters: {'n_estimators': 192, 'max_depth': 30, 'min_samples_split': 9, 'min_samples_leaf': 1, 'max_features': 'log2'}. Best is trial 8 with value: 0.807108626975697.\n",
      "[I 2025-03-22 15:06:01,981] Trial 9 finished with value: 0.7365939940562151 and parameters: {'n_estimators': 97, 'max_depth': 20, 'min_samples_split': 7, 'min_samples_leaf': 4, 'max_features': 'sqrt'}. Best is trial 8 with value: 0.807108626975697.\n",
      "[I 2025-03-22 15:06:07,997] Trial 10 finished with value: 0.7582857385358718 and parameters: {'n_estimators': 195, 'max_depth': 25, 'min_samples_split': 2, 'min_samples_leaf': 1, 'max_features': 'sqrt'}. Best is trial 8 with value: 0.807108626975697.\n",
      "[I 2025-03-22 15:06:10,588] Trial 11 finished with value: 0.7914229011711578 and parameters: {'n_estimators': 160, 'max_depth': 25, 'min_samples_split': 3, 'min_samples_leaf': 1, 'max_features': 'log2'}. Best is trial 8 with value: 0.807108626975697.\n",
      "[I 2025-03-22 15:06:13,258] Trial 12 finished with value: 0.789020548620585 and parameters: {'n_estimators': 163, 'max_depth': 25, 'min_samples_split': 2, 'min_samples_leaf': 1, 'max_features': 'log2'}. Best is trial 8 with value: 0.807108626975697.\n",
      "[I 2025-03-22 15:06:15,819] Trial 13 finished with value: 0.7927654077209292 and parameters: {'n_estimators': 168, 'max_depth': 25, 'min_samples_split': 4, 'min_samples_leaf': 1, 'max_features': 'log2'}. Best is trial 8 with value: 0.807108626975697.\n",
      "[I 2025-03-22 15:06:18,202] Trial 14 finished with value: 0.7883847308883349 and parameters: {'n_estimators': 181, 'max_depth': 25, 'min_samples_split': 6, 'min_samples_leaf': 3, 'max_features': 'log2'}. Best is trial 8 with value: 0.807108626975697.\n",
      "[I 2025-03-22 15:06:19,791] Trial 15 finished with value: 0.7302350678317916 and parameters: {'n_estimators': 141, 'max_depth': 15, 'min_samples_split': 4, 'min_samples_leaf': 2, 'max_features': 'log2'}. Best is trial 8 with value: 0.807108626975697.\n",
      "[I 2025-03-22 15:06:22,865] Trial 16 finished with value: 0.8073915371586411 and parameters: {'n_estimators': 180, 'max_depth': 30, 'min_samples_split': 10, 'min_samples_leaf': 1, 'max_features': 'log2'}. Best is trial 16 with value: 0.8073915371586411.\n",
      "[I 2025-03-22 15:06:25,326] Trial 17 finished with value: 0.8004674895434569 and parameters: {'n_estimators': 149, 'max_depth': 30, 'min_samples_split': 10, 'min_samples_leaf': 1, 'max_features': 'log2'}. Best is trial 16 with value: 0.8073915371586411.\n",
      "[I 2025-03-22 15:06:28,575] Trial 18 finished with value: 0.7323543104922408 and parameters: {'n_estimators': 186, 'max_depth': 15, 'min_samples_split': 9, 'min_samples_leaf': 3, 'max_features': 'sqrt'}. Best is trial 16 with value: 0.8073915371586411.\n",
      "[I 2025-03-22 15:06:31,051] Trial 19 finished with value: 0.8015974327642095 and parameters: {'n_estimators': 175, 'max_depth': 30, 'min_samples_split': 8, 'min_samples_leaf': 2, 'max_features': 'log2'}. Best is trial 16 with value: 0.8073915371586411.\n",
      "[I 2025-03-22 15:06:32,991] Trial 20 finished with value: 0.7688130029344474 and parameters: {'n_estimators': 151, 'max_depth': 20, 'min_samples_split': 10, 'min_samples_leaf': 1, 'max_features': 'log2'}. Best is trial 16 with value: 0.8073915371586411.\n",
      "[I 2025-03-22 15:06:35,506] Trial 21 finished with value: 0.8011734044956583 and parameters: {'n_estimators': 179, 'max_depth': 30, 'min_samples_split': 8, 'min_samples_leaf': 2, 'max_features': 'log2'}. Best is trial 16 with value: 0.8073915371586411.\n",
      "[I 2025-03-22 15:06:38,110] Trial 22 finished with value: 0.8003963688242115 and parameters: {'n_estimators': 185, 'max_depth': 30, 'min_samples_split': 8, 'min_samples_leaf': 2, 'max_features': 'log2'}. Best is trial 16 with value: 0.8073915371586411.\n",
      "[I 2025-03-22 15:06:41,481] Trial 23 finished with value: 0.8071792733903914 and parameters: {'n_estimators': 199, 'max_depth': 30, 'min_samples_split': 9, 'min_samples_leaf': 1, 'max_features': 'log2'}. Best is trial 16 with value: 0.8073915371586411.\n",
      "[I 2025-03-22 15:06:44,345] Trial 24 finished with value: 0.7955211920521534 and parameters: {'n_estimators': 196, 'max_depth': 25, 'min_samples_split': 9, 'min_samples_leaf': 1, 'max_features': 'log2'}. Best is trial 16 with value: 0.8073915371586411.\n",
      "[I 2025-03-22 15:06:47,531] Trial 25 finished with value: 0.8065439049992948 and parameters: {'n_estimators': 193, 'max_depth': 30, 'min_samples_split': 10, 'min_samples_leaf': 1, 'max_features': 'log2'}. Best is trial 16 with value: 0.8073915371586411.\n",
      "[I 2025-03-22 15:06:51,813] Trial 26 finished with value: 0.7594158565004063 and parameters: {'n_estimators': 152, 'max_depth': 25, 'min_samples_split': 7, 'min_samples_leaf': 1, 'max_features': 'sqrt'}. Best is trial 16 with value: 0.8073915371586411.\n",
      "[I 2025-03-22 15:06:52,732] Trial 27 finished with value: 0.7726280840717299 and parameters: {'n_estimators': 55, 'max_depth': 30, 'min_samples_split': 9, 'min_samples_leaf': 1, 'max_features': 'log2'}. Best is trial 16 with value: 0.8073915371586411.\n",
      "[I 2025-03-22 15:06:54,951] Trial 28 finished with value: 0.7726991798275777 and parameters: {'n_estimators': 189, 'max_depth': 20, 'min_samples_split': 10, 'min_samples_leaf': 2, 'max_features': 'log2'}. Best is trial 16 with value: 0.8073915371586411.\n",
      "[I 2025-03-22 15:07:01,036] Trial 29 finished with value: 0.7664107502374644 and parameters: {'n_estimators': 173, 'max_depth': 30, 'min_samples_split': 6, 'min_samples_leaf': 1, 'max_features': 'sqrt'}. Best is trial 16 with value: 0.8073915371586411.\n",
      "[I 2025-03-22 15:07:03,145] Trial 30 finished with value: 0.7844279075805101 and parameters: {'n_estimators': 160, 'max_depth': 25, 'min_samples_split': 7, 'min_samples_leaf': 2, 'max_features': 'log2'}. Best is trial 16 with value: 0.8073915371586411.\n",
      "[I 2025-03-22 15:07:06,446] Trial 31 finished with value: 0.8076037010733014 and parameters: {'n_estimators': 198, 'max_depth': 30, 'min_samples_split': 10, 'min_samples_leaf': 1, 'max_features': 'log2'}. Best is trial 31 with value: 0.8076037010733014.\n",
      "[I 2025-03-22 15:07:09,797] Trial 32 finished with value: 0.8074618091223742 and parameters: {'n_estimators': 200, 'max_depth': 30, 'min_samples_split': 9, 'min_samples_leaf': 1, 'max_features': 'log2'}. Best is trial 31 with value: 0.8076037010733014.\n",
      "[I 2025-03-22 15:07:13,125] Trial 33 finished with value: 0.8080981510859703 and parameters: {'n_estimators': 200, 'max_depth': 30, 'min_samples_split': 10, 'min_samples_leaf': 1, 'max_features': 'log2'}. Best is trial 33 with value: 0.8080981510859703.\n",
      "[I 2025-03-22 15:07:16,159] Trial 34 finished with value: 0.8076742975612008 and parameters: {'n_estimators': 182, 'max_depth': 30, 'min_samples_split': 10, 'min_samples_leaf': 1, 'max_features': 'log2'}. Best is trial 33 with value: 0.8080981510859703.\n",
      "[I 2025-03-22 15:07:18,603] Trial 35 finished with value: 0.7907869586219205 and parameters: {'n_estimators': 188, 'max_depth': 25, 'min_samples_split': 10, 'min_samples_leaf': 2, 'max_features': 'log2'}. Best is trial 33 with value: 0.8080981510859703.\n",
      "[I 2025-03-22 15:07:21,950] Trial 36 finished with value: 0.8074618091223742 and parameters: {'n_estimators': 200, 'max_depth': 30, 'min_samples_split': 9, 'min_samples_leaf': 1, 'max_features': 'log2'}. Best is trial 33 with value: 0.8080981510859703.\n",
      "[I 2025-03-22 15:07:24,799] Trial 37 finished with value: 0.8025163354231857 and parameters: {'n_estimators': 169, 'max_depth': 30, 'min_samples_split': 10, 'min_samples_leaf': 1, 'max_features': 'log2'}. Best is trial 33 with value: 0.8080981510859703.\n",
      "[I 2025-03-22 15:07:28,509] Trial 38 finished with value: 0.7322837888945335 and parameters: {'n_estimators': 200, 'max_depth': 15, 'min_samples_split': 8, 'min_samples_leaf': 2, 'max_features': 'sqrt'}. Best is trial 33 with value: 0.8080981510859703.\n",
      "[I 2025-03-22 15:07:30,585] Trial 39 finished with value: 0.7993365477868076 and parameters: {'n_estimators': 124, 'max_depth': 30, 'min_samples_split': 9, 'min_samples_leaf': 1, 'max_features': 'log2'}. Best is trial 33 with value: 0.8080981510859703.\n",
      "[I 2025-03-22 15:07:31,895] Trial 40 finished with value: 0.7676825105189516 and parameters: {'n_estimators': 101, 'max_depth': 25, 'min_samples_split': 10, 'min_samples_leaf': 3, 'max_features': 'log2'}. Best is trial 33 with value: 0.8080981510859703.\n",
      "[I 2025-03-22 15:07:35,087] Trial 41 finished with value: 0.8066847484875301 and parameters: {'n_estimators': 190, 'max_depth': 30, 'min_samples_split': 9, 'min_samples_leaf': 1, 'max_features': 'log2'}. Best is trial 33 with value: 0.8080981510859703.\n",
      "[I 2025-03-22 15:07:38,408] Trial 42 finished with value: 0.8072499198050858 and parameters: {'n_estimators': 198, 'max_depth': 30, 'min_samples_split': 9, 'min_samples_leaf': 1, 'max_features': 'log2'}. Best is trial 33 with value: 0.8080981510859703.\n",
      "[I 2025-03-22 15:07:41,446] Trial 43 finished with value: 0.8076742975612008 and parameters: {'n_estimators': 182, 'max_depth': 30, 'min_samples_split': 10, 'min_samples_leaf': 1, 'max_features': 'log2'}. Best is trial 33 with value: 0.8080981510859703.\n",
      "[I 2025-03-22 15:07:44,467] Trial 44 finished with value: 0.8071089015730685 and parameters: {'n_estimators': 181, 'max_depth': 30, 'min_samples_split': 10, 'min_samples_leaf': 1, 'max_features': 'log2'}. Best is trial 33 with value: 0.8080981510859703.\n",
      "[I 2025-03-22 15:07:46,989] Trial 45 finished with value: 0.7932598078068033 and parameters: {'n_estimators': 174, 'max_depth': 25, 'min_samples_split': 10, 'min_samples_leaf': 1, 'max_features': 'log2'}. Best is trial 33 with value: 0.8080981510859703.\n",
      "[I 2025-03-22 15:07:48,401] Trial 46 finished with value: 0.7835801755675741 and parameters: {'n_estimators': 82, 'max_depth': 30, 'min_samples_split': 5, 'min_samples_leaf': 1, 'max_features': 'log2'}. Best is trial 33 with value: 0.8080981510859703.\n",
      "[I 2025-03-22 15:07:50,776] Trial 47 finished with value: 0.7038799360437759 and parameters: {'n_estimators': 167, 'max_depth': 10, 'min_samples_split': 10, 'min_samples_leaf': 2, 'max_features': 'sqrt'}. Best is trial 33 with value: 0.8080981510859703.\n",
      "[I 2025-03-22 15:07:52,378] Trial 48 finished with value: 0.7873958058995997 and parameters: {'n_estimators': 114, 'max_depth': 30, 'min_samples_split': 8, 'min_samples_leaf': 4, 'max_features': 'log2'}. Best is trial 33 with value: 0.8080981510859703.\n",
      "[I 2025-03-22 15:07:54,739] Trial 49 finished with value: 0.8015979070687604 and parameters: {'n_estimators': 138, 'max_depth': 30, 'min_samples_split': 10, 'min_samples_leaf': 1, 'max_features': 'log2'}. Best is trial 33 with value: 0.8080981510859703.\n"
     ]
    },
    {
     "name": "stdout",
     "output_type": "stream",
     "text": [
      "Best trial: {'n_estimators': 200, 'max_depth': 30, 'min_samples_split': 10, 'min_samples_leaf': 1, 'max_features': 'log2'}\n",
      "Best accuracy: 0.8080981510859703\n"
     ]
    }
   ],
   "source": [
    "# Create a study object and optimize\n",
    "study = optuna.create_study(direction='maximize')  # Maximize accuracy\n",
    "study.optimize(objective, n_trials=50)  # Run 50 trials\n",
    "\n",
    "# Print the best hyperparameters and best score\n",
    "print(f\"Best trial: {study.best_trial.params}\")\n",
    "print(f\"Best accuracy: {study.best_trial.value}\")"
   ]
  },
  {
   "cell_type": "code",
   "execution_count": 30,
   "metadata": {},
   "outputs": [
    {
     "name": "stdout",
     "output_type": "stream",
     "text": [
      "Test Accuracy with Best Model: 0.815694032311243\n"
     ]
    }
   ],
   "source": [
    "# Get the best hyperparameters\n",
    "best_params = study.best_trial.params\n",
    "\n",
    "# Train the best model on the full training set\n",
    "best_model = RandomForestClassifier(**best_params, random_state=42)\n",
    "best_model.fit(X_train_full, y_train_full)\n",
    "\n",
    "# Evaluate on the test set\n",
    "y_test_pred = best_model.predict(X_test)\n",
    "test_accuracy = accuracy_score(y_test, y_test_pred)\n",
    "print(f\"Test Accuracy with Best Model: {test_accuracy}\")"
   ]
  },
  {
   "cell_type": "code",
   "execution_count": 31,
   "metadata": {},
   "outputs": [
    {
     "data": {
      "application/vnd.plotly.v1+json": {
       "config": {
        "plotlyServerURL": "https://plot.ly"
       },
       "data": [
        {
         "cliponaxis": false,
         "hovertemplate": [
          "min_samples_leaf (IntDistribution): 0.011797077950164728<extra></extra>",
          "n_estimators (IntDistribution): 0.01464304777685982<extra></extra>",
          "min_samples_split (IntDistribution): 0.022725762027505883<extra></extra>",
          "max_features (CategoricalDistribution): 0.031137798261964604<extra></extra>",
          "max_depth (IntDistribution): 0.9196963139835049<extra></extra>"
         ],
         "name": "Objective Value",
         "orientation": "h",
         "text": [
          "0.01",
          "0.01",
          "0.02",
          "0.03",
          "0.92"
         ],
         "textposition": "outside",
         "type": "bar",
         "x": [
          0.011797077950164728,
          0.01464304777685982,
          0.022725762027505883,
          0.031137798261964604,
          0.9196963139835049
         ],
         "y": [
          "min_samples_leaf",
          "n_estimators",
          "min_samples_split",
          "max_features",
          "max_depth"
         ]
        }
       ],
       "layout": {
        "template": {
         "data": {
          "bar": [
           {
            "error_x": {
             "color": "#2a3f5f"
            },
            "error_y": {
             "color": "#2a3f5f"
            },
            "marker": {
             "line": {
              "color": "#E5ECF6",
              "width": 0.5
             },
             "pattern": {
              "fillmode": "overlay",
              "size": 10,
              "solidity": 0.2
             }
            },
            "type": "bar"
           }
          ],
          "barpolar": [
           {
            "marker": {
             "line": {
              "color": "#E5ECF6",
              "width": 0.5
             },
             "pattern": {
              "fillmode": "overlay",
              "size": 10,
              "solidity": 0.2
             }
            },
            "type": "barpolar"
           }
          ],
          "carpet": [
           {
            "aaxis": {
             "endlinecolor": "#2a3f5f",
             "gridcolor": "white",
             "linecolor": "white",
             "minorgridcolor": "white",
             "startlinecolor": "#2a3f5f"
            },
            "baxis": {
             "endlinecolor": "#2a3f5f",
             "gridcolor": "white",
             "linecolor": "white",
             "minorgridcolor": "white",
             "startlinecolor": "#2a3f5f"
            },
            "type": "carpet"
           }
          ],
          "choropleth": [
           {
            "colorbar": {
             "outlinewidth": 0,
             "ticks": ""
            },
            "type": "choropleth"
           }
          ],
          "contour": [
           {
            "colorbar": {
             "outlinewidth": 0,
             "ticks": ""
            },
            "colorscale": [
             [
              0,
              "#0d0887"
             ],
             [
              0.1111111111111111,
              "#46039f"
             ],
             [
              0.2222222222222222,
              "#7201a8"
             ],
             [
              0.3333333333333333,
              "#9c179e"
             ],
             [
              0.4444444444444444,
              "#bd3786"
             ],
             [
              0.5555555555555556,
              "#d8576b"
             ],
             [
              0.6666666666666666,
              "#ed7953"
             ],
             [
              0.7777777777777778,
              "#fb9f3a"
             ],
             [
              0.8888888888888888,
              "#fdca26"
             ],
             [
              1,
              "#f0f921"
             ]
            ],
            "type": "contour"
           }
          ],
          "contourcarpet": [
           {
            "colorbar": {
             "outlinewidth": 0,
             "ticks": ""
            },
            "type": "contourcarpet"
           }
          ],
          "heatmap": [
           {
            "colorbar": {
             "outlinewidth": 0,
             "ticks": ""
            },
            "colorscale": [
             [
              0,
              "#0d0887"
             ],
             [
              0.1111111111111111,
              "#46039f"
             ],
             [
              0.2222222222222222,
              "#7201a8"
             ],
             [
              0.3333333333333333,
              "#9c179e"
             ],
             [
              0.4444444444444444,
              "#bd3786"
             ],
             [
              0.5555555555555556,
              "#d8576b"
             ],
             [
              0.6666666666666666,
              "#ed7953"
             ],
             [
              0.7777777777777778,
              "#fb9f3a"
             ],
             [
              0.8888888888888888,
              "#fdca26"
             ],
             [
              1,
              "#f0f921"
             ]
            ],
            "type": "heatmap"
           }
          ],
          "heatmapgl": [
           {
            "colorbar": {
             "outlinewidth": 0,
             "ticks": ""
            },
            "colorscale": [
             [
              0,
              "#0d0887"
             ],
             [
              0.1111111111111111,
              "#46039f"
             ],
             [
              0.2222222222222222,
              "#7201a8"
             ],
             [
              0.3333333333333333,
              "#9c179e"
             ],
             [
              0.4444444444444444,
              "#bd3786"
             ],
             [
              0.5555555555555556,
              "#d8576b"
             ],
             [
              0.6666666666666666,
              "#ed7953"
             ],
             [
              0.7777777777777778,
              "#fb9f3a"
             ],
             [
              0.8888888888888888,
              "#fdca26"
             ],
             [
              1,
              "#f0f921"
             ]
            ],
            "type": "heatmapgl"
           }
          ],
          "histogram": [
           {
            "marker": {
             "pattern": {
              "fillmode": "overlay",
              "size": 10,
              "solidity": 0.2
             }
            },
            "type": "histogram"
           }
          ],
          "histogram2d": [
           {
            "colorbar": {
             "outlinewidth": 0,
             "ticks": ""
            },
            "colorscale": [
             [
              0,
              "#0d0887"
             ],
             [
              0.1111111111111111,
              "#46039f"
             ],
             [
              0.2222222222222222,
              "#7201a8"
             ],
             [
              0.3333333333333333,
              "#9c179e"
             ],
             [
              0.4444444444444444,
              "#bd3786"
             ],
             [
              0.5555555555555556,
              "#d8576b"
             ],
             [
              0.6666666666666666,
              "#ed7953"
             ],
             [
              0.7777777777777778,
              "#fb9f3a"
             ],
             [
              0.8888888888888888,
              "#fdca26"
             ],
             [
              1,
              "#f0f921"
             ]
            ],
            "type": "histogram2d"
           }
          ],
          "histogram2dcontour": [
           {
            "colorbar": {
             "outlinewidth": 0,
             "ticks": ""
            },
            "colorscale": [
             [
              0,
              "#0d0887"
             ],
             [
              0.1111111111111111,
              "#46039f"
             ],
             [
              0.2222222222222222,
              "#7201a8"
             ],
             [
              0.3333333333333333,
              "#9c179e"
             ],
             [
              0.4444444444444444,
              "#bd3786"
             ],
             [
              0.5555555555555556,
              "#d8576b"
             ],
             [
              0.6666666666666666,
              "#ed7953"
             ],
             [
              0.7777777777777778,
              "#fb9f3a"
             ],
             [
              0.8888888888888888,
              "#fdca26"
             ],
             [
              1,
              "#f0f921"
             ]
            ],
            "type": "histogram2dcontour"
           }
          ],
          "mesh3d": [
           {
            "colorbar": {
             "outlinewidth": 0,
             "ticks": ""
            },
            "type": "mesh3d"
           }
          ],
          "parcoords": [
           {
            "line": {
             "colorbar": {
              "outlinewidth": 0,
              "ticks": ""
             }
            },
            "type": "parcoords"
           }
          ],
          "pie": [
           {
            "automargin": true,
            "type": "pie"
           }
          ],
          "scatter": [
           {
            "fillpattern": {
             "fillmode": "overlay",
             "size": 10,
             "solidity": 0.2
            },
            "type": "scatter"
           }
          ],
          "scatter3d": [
           {
            "line": {
             "colorbar": {
              "outlinewidth": 0,
              "ticks": ""
             }
            },
            "marker": {
             "colorbar": {
              "outlinewidth": 0,
              "ticks": ""
             }
            },
            "type": "scatter3d"
           }
          ],
          "scattercarpet": [
           {
            "marker": {
             "colorbar": {
              "outlinewidth": 0,
              "ticks": ""
             }
            },
            "type": "scattercarpet"
           }
          ],
          "scattergeo": [
           {
            "marker": {
             "colorbar": {
              "outlinewidth": 0,
              "ticks": ""
             }
            },
            "type": "scattergeo"
           }
          ],
          "scattergl": [
           {
            "marker": {
             "colorbar": {
              "outlinewidth": 0,
              "ticks": ""
             }
            },
            "type": "scattergl"
           }
          ],
          "scattermapbox": [
           {
            "marker": {
             "colorbar": {
              "outlinewidth": 0,
              "ticks": ""
             }
            },
            "type": "scattermapbox"
           }
          ],
          "scatterpolar": [
           {
            "marker": {
             "colorbar": {
              "outlinewidth": 0,
              "ticks": ""
             }
            },
            "type": "scatterpolar"
           }
          ],
          "scatterpolargl": [
           {
            "marker": {
             "colorbar": {
              "outlinewidth": 0,
              "ticks": ""
             }
            },
            "type": "scatterpolargl"
           }
          ],
          "scatterternary": [
           {
            "marker": {
             "colorbar": {
              "outlinewidth": 0,
              "ticks": ""
             }
            },
            "type": "scatterternary"
           }
          ],
          "surface": [
           {
            "colorbar": {
             "outlinewidth": 0,
             "ticks": ""
            },
            "colorscale": [
             [
              0,
              "#0d0887"
             ],
             [
              0.1111111111111111,
              "#46039f"
             ],
             [
              0.2222222222222222,
              "#7201a8"
             ],
             [
              0.3333333333333333,
              "#9c179e"
             ],
             [
              0.4444444444444444,
              "#bd3786"
             ],
             [
              0.5555555555555556,
              "#d8576b"
             ],
             [
              0.6666666666666666,
              "#ed7953"
             ],
             [
              0.7777777777777778,
              "#fb9f3a"
             ],
             [
              0.8888888888888888,
              "#fdca26"
             ],
             [
              1,
              "#f0f921"
             ]
            ],
            "type": "surface"
           }
          ],
          "table": [
           {
            "cells": {
             "fill": {
              "color": "#EBF0F8"
             },
             "line": {
              "color": "white"
             }
            },
            "header": {
             "fill": {
              "color": "#C8D4E3"
             },
             "line": {
              "color": "white"
             }
            },
            "type": "table"
           }
          ]
         },
         "layout": {
          "annotationdefaults": {
           "arrowcolor": "#2a3f5f",
           "arrowhead": 0,
           "arrowwidth": 1
          },
          "autotypenumbers": "strict",
          "coloraxis": {
           "colorbar": {
            "outlinewidth": 0,
            "ticks": ""
           }
          },
          "colorscale": {
           "diverging": [
            [
             0,
             "#8e0152"
            ],
            [
             0.1,
             "#c51b7d"
            ],
            [
             0.2,
             "#de77ae"
            ],
            [
             0.3,
             "#f1b6da"
            ],
            [
             0.4,
             "#fde0ef"
            ],
            [
             0.5,
             "#f7f7f7"
            ],
            [
             0.6,
             "#e6f5d0"
            ],
            [
             0.7,
             "#b8e186"
            ],
            [
             0.8,
             "#7fbc41"
            ],
            [
             0.9,
             "#4d9221"
            ],
            [
             1,
             "#276419"
            ]
           ],
           "sequential": [
            [
             0,
             "#0d0887"
            ],
            [
             0.1111111111111111,
             "#46039f"
            ],
            [
             0.2222222222222222,
             "#7201a8"
            ],
            [
             0.3333333333333333,
             "#9c179e"
            ],
            [
             0.4444444444444444,
             "#bd3786"
            ],
            [
             0.5555555555555556,
             "#d8576b"
            ],
            [
             0.6666666666666666,
             "#ed7953"
            ],
            [
             0.7777777777777778,
             "#fb9f3a"
            ],
            [
             0.8888888888888888,
             "#fdca26"
            ],
            [
             1,
             "#f0f921"
            ]
           ],
           "sequentialminus": [
            [
             0,
             "#0d0887"
            ],
            [
             0.1111111111111111,
             "#46039f"
            ],
            [
             0.2222222222222222,
             "#7201a8"
            ],
            [
             0.3333333333333333,
             "#9c179e"
            ],
            [
             0.4444444444444444,
             "#bd3786"
            ],
            [
             0.5555555555555556,
             "#d8576b"
            ],
            [
             0.6666666666666666,
             "#ed7953"
            ],
            [
             0.7777777777777778,
             "#fb9f3a"
            ],
            [
             0.8888888888888888,
             "#fdca26"
            ],
            [
             1,
             "#f0f921"
            ]
           ]
          },
          "colorway": [
           "#636efa",
           "#EF553B",
           "#00cc96",
           "#ab63fa",
           "#FFA15A",
           "#19d3f3",
           "#FF6692",
           "#B6E880",
           "#FF97FF",
           "#FECB52"
          ],
          "font": {
           "color": "#2a3f5f"
          },
          "geo": {
           "bgcolor": "white",
           "lakecolor": "white",
           "landcolor": "#E5ECF6",
           "showlakes": true,
           "showland": true,
           "subunitcolor": "white"
          },
          "hoverlabel": {
           "align": "left"
          },
          "hovermode": "closest",
          "mapbox": {
           "style": "light"
          },
          "paper_bgcolor": "white",
          "plot_bgcolor": "#E5ECF6",
          "polar": {
           "angularaxis": {
            "gridcolor": "white",
            "linecolor": "white",
            "ticks": ""
           },
           "bgcolor": "#E5ECF6",
           "radialaxis": {
            "gridcolor": "white",
            "linecolor": "white",
            "ticks": ""
           }
          },
          "scene": {
           "xaxis": {
            "backgroundcolor": "#E5ECF6",
            "gridcolor": "white",
            "gridwidth": 2,
            "linecolor": "white",
            "showbackground": true,
            "ticks": "",
            "zerolinecolor": "white"
           },
           "yaxis": {
            "backgroundcolor": "#E5ECF6",
            "gridcolor": "white",
            "gridwidth": 2,
            "linecolor": "white",
            "showbackground": true,
            "ticks": "",
            "zerolinecolor": "white"
           },
           "zaxis": {
            "backgroundcolor": "#E5ECF6",
            "gridcolor": "white",
            "gridwidth": 2,
            "linecolor": "white",
            "showbackground": true,
            "ticks": "",
            "zerolinecolor": "white"
           }
          },
          "shapedefaults": {
           "line": {
            "color": "#2a3f5f"
           }
          },
          "ternary": {
           "aaxis": {
            "gridcolor": "white",
            "linecolor": "white",
            "ticks": ""
           },
           "baxis": {
            "gridcolor": "white",
            "linecolor": "white",
            "ticks": ""
           },
           "bgcolor": "#E5ECF6",
           "caxis": {
            "gridcolor": "white",
            "linecolor": "white",
            "ticks": ""
           }
          },
          "title": {
           "x": 0.05
          },
          "xaxis": {
           "automargin": true,
           "gridcolor": "white",
           "linecolor": "white",
           "ticks": "",
           "title": {
            "standoff": 15
           },
           "zerolinecolor": "white",
           "zerolinewidth": 2
          },
          "yaxis": {
           "automargin": true,
           "gridcolor": "white",
           "linecolor": "white",
           "ticks": "",
           "title": {
            "standoff": 15
           },
           "zerolinecolor": "white",
           "zerolinewidth": 2
          }
         }
        },
        "title": {
         "text": "Hyperparameter Importances"
        },
        "xaxis": {
         "title": {
          "text": "Hyperparameter Importance"
         }
        },
        "yaxis": {
         "title": {
          "text": "Hyperparameter"
         }
        }
       }
      }
     },
     "metadata": {},
     "output_type": "display_data"
    }
   ],
   "source": [
    "# Plot optimization history\n",
    "optuna.visualization.plot_optimization_history(study)\n",
    "\n",
    "# Plot hyperparameter importance\n",
    "optuna.visualization.plot_param_importances(study)"
   ]
  }
 ],
 "metadata": {
  "kernelspec": {
   "display_name": "base",
   "language": "python",
   "name": "python3"
  },
  "language_info": {
   "codemirror_mode": {
    "name": "ipython",
    "version": 3
   },
   "file_extension": ".py",
   "mimetype": "text/x-python",
   "name": "python",
   "nbconvert_exporter": "python",
   "pygments_lexer": "ipython3",
   "version": "3.11.5"
  }
 },
 "nbformat": 4,
 "nbformat_minor": 2
}
