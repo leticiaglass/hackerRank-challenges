{
 "cells": [
  {
   "cell_type": "code",
   "execution_count": 8,
   "metadata": {},
   "outputs": [],
   "source": [
    "def printTransactions(m, k, d, name, owned, prices):\n",
    "    transactions = []\n",
    "    \n",
    "    for i in range(k):\n",
    "        stock_name = name[i]\n",
    "        stock_owned = owned[i]\n",
    "        stock_prices = prices[i]\n",
    "        current_price = stock_prices[-1]\n",
    "        \n",
    "        # Calculate the average price over the last 5 days\n",
    "        avg_price = sum(stock_prices) / 5\n",
    "        \n",
    "        # Decision making based on the current price compared to the average\n",
    "        if current_price > avg_price and stock_owned > 0:\n",
    "            # Sell all owned shares if the current price is above the average\n",
    "            transactions.append((stock_name, \"SELL\", stock_owned))\n",
    "        elif current_price < avg_price and m >= current_price:\n",
    "            # Buy as many shares as possible if the current price is below the average\n",
    "            max_shares = int(m // current_price)\n",
    "            if max_shares > 0:\n",
    "                transactions.append((stock_name, \"BUY\", max_shares))\n",
    "                m -= max_shares * current_price\n",
    "    \n",
    "    # Output the number of transactions\n",
    "    print(len(transactions))\n",
    "    \n",
    "    # Output each transaction\n",
    "    for transaction in transactions:\n",
    "        print(f\"{transaction[0]} {transaction[1]} {transaction[2]}\")"
   ]
  },
  {
   "cell_type": "code",
   "execution_count": 24,
   "metadata": {},
   "outputs": [],
   "source": [
    "# Read input from a text file\n",
    "with open('stockdata.txt', 'r') as file:\n",
    "    input_lines = file.readlines()"
   ]
  },
  {
   "cell_type": "code",
   "execution_count": 25,
   "metadata": {},
   "outputs": [
    {
     "name": "stdout",
     "output_type": "stream",
     "text": [
      "2\n",
      "iStreet SELL 10\n",
      "HR BUY 5\n"
     ]
    }
   ],
   "source": [
    "\n",
    "# Extract m, k, d from the first line\n",
    "first_line = input_lines[0].strip().split()\n",
    "m = float(first_line[0])  # Money available\n",
    "k = int(first_line[1])    # Number of stocks\n",
    "d = int(first_line[2])    # Remaining days\n",
    "\n",
    "# Extract stock data\n",
    "name = []\n",
    "owned = []\n",
    "prices = []\n",
    "\n",
    "for i in range(1, k + 1):\n",
    "    stock_data = input_lines[i].strip().split()\n",
    "    name.append(stock_data[0])  # Stock name\n",
    "    owned.append(int(stock_data[1]))  # Shares owned\n",
    "    prices.append(list(map(float, stock_data[2:7])))  # Last 5 days' prices\n",
    "\n",
    "# Call the function\n",
    "printTransactions(m, k, d, name, owned, prices)"
   ]
  }
 ],
 "metadata": {
  "kernelspec": {
   "display_name": "base",
   "language": "python",
   "name": "python3"
  },
  "language_info": {
   "codemirror_mode": {
    "name": "ipython",
    "version": 3
   },
   "file_extension": ".py",
   "mimetype": "text/x-python",
   "name": "python",
   "nbconvert_exporter": "python",
   "pygments_lexer": "ipython3",
   "version": "3.11.5"
  }
 },
 "nbformat": 4,
 "nbformat_minor": 2
}
