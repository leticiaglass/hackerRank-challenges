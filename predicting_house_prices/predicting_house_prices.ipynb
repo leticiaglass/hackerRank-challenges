{
 "cells": [
  {
   "cell_type": "code",
   "execution_count": null,
   "metadata": {},
   "outputs": [],
   "source": [
    "import numpy as np\n",
    "from sklearn import linear_model"
   ]
  },
  {
   "cell_type": "code",
   "execution_count": 13,
   "metadata": {},
   "outputs": [],
   "source": [
    "\n",
    "data = \"\"\"\n",
    "2 7\n",
    "0.18 0.89 109.85\n",
    "1.0 0.26 155.72\n",
    "0.92 0.11 137.66\n",
    "0.07 0.37 76.17\n",
    "0.85 0.16 139.75\n",
    "0.99 0.41 162.6\n",
    "0.87 0.47 151.77\n",
    "4\n",
    "0.49 0.18\n",
    "0.57 0.83\n",
    "0.56 0.64\n",
    "0.76 0.18\n",
    "\"\"\""
   ]
  },
  {
   "cell_type": "code",
   "execution_count": 14,
   "metadata": {},
   "outputs": [
    {
     "name": "stdout",
     "output_type": "stream",
     "text": [
      "105.21\n",
      "142.67\n",
      "132.94\n",
      "129.70\n"
     ]
    }
   ],
   "source": [
    "\n",
    "# Split the data into lines\n",
    "lines = data.strip().split(\"\\n\")\n",
    "\n",
    "# Read F and N\n",
    "F, N = map(int, lines[0].split())\n",
    "\n",
    "# Read training data\n",
    "X_train, Y_train = [], []\n",
    "for i in range(1, N + 1):\n",
    "    row = list(map(float, lines[i].split()))\n",
    "    X_train.append(row[:F])  # Features\n",
    "    Y_train.append(row[-1])  # Target\n",
    "\n",
    "# Read T (number of test cases)\n",
    "T = int(lines[N + 1])\n",
    "\n",
    "# Read test data\n",
    "X_test = []\n",
    "for i in range(N + 2, N + 2 + T):\n",
    "    row = list(map(float, lines[i].split()))\n",
    "    X_test.append(row)\n",
    "\n",
    "# Convert to numpy arrays\n",
    "X_train = np.array(X_train)\n",
    "Y_train = np.array(Y_train)\n",
    "X_test = np.array(X_test)\n",
    "\n",
    "# Create and train the model\n",
    "regr = linear_model.LinearRegression()\n",
    "regr.fit(X_train, Y_train)\n",
    "\n",
    "# Predict\n",
    "res = regr.predict(X_test)\n",
    "\n",
    "# Print results\n",
    "for r in res:\n",
    "    print(\"%.2f\" % r)"
   ]
  },
  {
   "cell_type": "code",
   "execution_count": null,
   "metadata": {},
   "outputs": [],
   "source": []
  }
 ],
 "metadata": {
  "kernelspec": {
   "display_name": "v_env",
   "language": "python",
   "name": "python3"
  },
  "language_info": {
   "codemirror_mode": {
    "name": "ipython",
    "version": 3
   },
   "file_extension": ".py",
   "mimetype": "text/x-python",
   "name": "python",
   "nbconvert_exporter": "python",
   "pygments_lexer": "ipython3",
   "version": "3.11.5"
  }
 },
 "nbformat": 4,
 "nbformat_minor": 2
}
